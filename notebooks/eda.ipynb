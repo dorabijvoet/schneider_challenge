{
 "cells": [
  {
   "attachments": {},
   "cell_type": "markdown",
   "metadata": {},
   "source": [
    "# EDA"
   ]
  },
  {
   "cell_type": "code",
   "execution_count": null,
   "metadata": {},
   "outputs": [],
   "source": [
    "import os\n",
    "from pathlib import Path\n",
    "\n",
    "import numpy as np\n",
    "import pandas as pd\n",
    "# import plotly.express as px\n",
    "# import plotly.graph_objects as go\n",
    "# from plotly.subplots import make_subplots\n",
    "\n",
    "%load_ext autoreload\n",
    "%autoreload 2"
   ]
  },
  {
   "attachments": {},
   "cell_type": "markdown",
   "metadata": {},
   "source": [
    "## 1. Data"
   ]
  },
  {
   "cell_type": "code",
   "execution_count": null,
   "metadata": {},
   "outputs": [],
   "source": [
    "# Step 0: Unzip data file and read data\n",
    "## Unzip file\n",
    "DATA_PATH =  Path('/home/jovyan/hfactory_magic_folders/polycarbonate_pricing/resources')\n",
    "# Read parquets\n",
    "DATAFRAMES = {\n",
    "    folder.name: {\n",
    "        data_file.name: pd.read_parquet(data_file)\n",
    "        for data_file in (DATA_PATH / folder).iterdir()\n",
    "        if data_file.suffix == \".pq\"\n",
    "    }\n",
    "    for folder in DATA_PATH.iterdir() if folder.is_dir()\n",
    "}\n",
    "# Now you can access each DataFrame using its folder & file name as the key in the 'dataframes' dictionary\n",
    "# For example:\n",
    "# df_pc_price_eu = DATAFRAMES[\"pc_price\"][\"pc_price_eu.pq\"]"
   ]
  },
  {
   "cell_type": "code",
   "execution_count": null,
   "metadata": {},
   "outputs": [],
   "source": []
  }
 ],
 "metadata": {
  "kernelspec": {
   "display_name": "Python 3",
   "language": "python",
   "name": "python3"
  },
  "language_info": {
   "codemirror_mode": {
    "name": "ipython",
    "version": 3
   },
   "file_extension": ".py",
   "mimetype": "text/x-python",
   "name": "python",
   "nbconvert_exporter": "python",
   "pygments_lexer": "ipython3",
   "version": "3.10.13"
  }
 },
 "nbformat": 4,
 "nbformat_minor": 2
}
