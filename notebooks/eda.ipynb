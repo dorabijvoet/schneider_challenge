{
 "cells": [
  {
   "attachments": {},
   "cell_type": "markdown",
   "metadata": {},
   "source": [
    "# EDA"
   ]
  },
  {
   "cell_type": "code",
   "execution_count": null,
   "metadata": {},
   "outputs": [],
   "source": [
    "import os\n",
    "from pathlib import Path\n",
    "\n",
    "import numpy as np\n",
    "import pandas as pd\n",
    "import plotly.express as px\n",
    "import plotly.graph_objects as go\n",
    "from plotly.subplots import make_subplots\n",
    "import matplotlib.pyplot as plt\n",
    "\n",
    "%load_ext autoreload\n",
    "%autoreload 2"
   ]
  },
  {
   "attachments": {},
   "cell_type": "markdown",
   "metadata": {},
   "source": [
    "## 1. Data"
   ]
  },
  {
   "cell_type": "code",
   "execution_count": null,
   "metadata": {},
   "outputs": [],
   "source": [
    "# Step 0: Unzip data file and read data\n",
    "## Unzip file\n",
    "DATA_PATH =  Path('/home/jovyan/hfactory_magic_folders/polycarbonate_pricing/resources')\n",
    "# Read parquets\n",
    "DATAFRAMES = {\n",
    "    folder.name: {\n",
    "        data_file.name: pd.read_parquet(data_file)\n",
    "        for data_file in (DATA_PATH / folder).iterdir()\n",
    "        if data_file.suffix == \".pq\"\n",
    "    }\n",
    "    for folder in DATA_PATH.iterdir() if folder.is_dir()\n",
    "}\n",
    "# Now you can access each DataFrame using its folder & file name as the key in the 'dataframes' dictionary\n",
    "# For example:\n",
    "# df_pc_price_eu = DATAFRAMES[\"pc_price\"][\"pc_price_eu.pq\"]"
   ]
  },
  {
   "cell_type": "code",
   "execution_count": null,
   "metadata": {},
   "outputs": [],
   "source": [
    "df_pc_price_eu = DATAFRAMES[\"pc_price\"][\"pc_price_eu.pq\"]\n",
    "df_pc_price_eu.head()"
   ]
  },
  {
   "cell_type": "code",
   "execution_count": null,
   "metadata": {},
   "outputs": [],
   "source": [
    "df_best_pc_price_eu = (\n",
    "    df_pc_price_eu.set_index(\"date\")[df_pc_price_eu.columns[df_pc_price_eu.columns.str.startswith(\"eu_supplier\")]]\n",
    "    .min(axis=1)\n",
    "    .reset_index(drop=False)\n",
    "    .rename(columns={0: \"price_pc_eur_per_kg\"})\n",
    ")\n",
    "\n",
    "# Create figure for the best price\n",
    "fig = go.Figure()\n",
    "fig.add_trace(\n",
    "    go.Scatter(\n",
    "        x=df_best_pc_price_eu[\"date\"],\n",
    "        y=df_best_pc_price_eu[\"price_pc_eur_per_kg\"],\n",
    "        mode=\"lines+markers\",\n",
    "        name=\"Best Price\",\n",
    "        marker={\"size\": 5, \"color\": \"red\"},\n",
    "        line={\"color\": \"red\"},\n",
    "    )\n",
    ")\n",
    "\n",
    "# Add traces for each EU supplier\n",
    "for col in df_pc_price_eu.columns:\n",
    "    if col.startswith(\"eu_supplier\"):\n",
    "        fig.add_trace(\n",
    "            go.Scatter(\n",
    "                x=df_pc_price_eu[\"date\"],\n",
    "                y=df_pc_price_eu[col],\n",
    "                mode=\"lines\",\n",
    "                name=col,\n",
    "                line={\"dash\": \"dash\", \"width\": 2},\n",
    "                opacity=0.5,\n",
    "            )\n",
    "        )\n",
    "\n",
    "fig.update_layout(\n",
    "    title={\n",
    "        \"text\": \"PolyCarbonate prices in EUR/Kg accross SE suppliers, against time\",\n",
    "        \"x\": 0.5,\n",
    "        \"xanchor\": \"center\",\n",
    "        \"yanchor\": \"top\",\n",
    "        \"font\": {\"size\": 20},\n",
    "    },\n",
    "    xaxis_title=\"Date\",\n",
    "    yaxis_title=\"Polycarbonate price (EUR/Kg)\",\n",
    "    width=1150,\n",
    "    height=600,\n",
    "    template=\"plotly\",\n",
    ")\n",
    "\n",
    "fig.show(\"svg\")"
   ]
  },
  {
   "cell_type": "code",
   "execution_count": null,
   "metadata": {},
   "outputs": [],
   "source": [
    "df_best_pc_price_eu[\"date\"] = pd.to_datetime(df_best_pc_price_eu[\"date\"], format=\"%b-%Y\")"
   ]
  },
  {
   "cell_type": "code",
   "execution_count": null,
   "metadata": {},
   "outputs": [],
   "source": [
    "df_best_pc_price_eu"
   ]
  },
  {
   "cell_type": "code",
   "execution_count": null,
   "metadata": {},
   "outputs": [],
   "source": [
    "df_best_pc_price_eu[\"2023-04-01\" <= df_best_pc_price_eu[\"date\"] <= \"2024-09-01\"]"
   ]
  },
  {
   "cell_type": "code",
   "execution_count": null,
   "metadata": {},
   "outputs": [],
   "source": [
    "df_best_pc_price_ = (\n",
    "    df_electricity_price.assign(date=lambda df: pd.to_datetime(df[\"date\"], format=\"%Y/%m\").dt.strftime(\"%b-%Y\"))\n",
    "    .merge(df_best_pc_price_eu, how=\"right\", on=\"date\")\n",
    "    .dropna()\n",
    "    .rename(columns={\"price - EUR/MWh (avg)\": \"electricity_price_eur_per_mwh\"})\n",
    ")"
   ]
  },
  {
   "attachments": {},
   "cell_type": "markdown",
   "metadata": {},
   "source": [
    "### 1.1 Electricity price"
   ]
  },
  {
   "cell_type": "code",
   "execution_count": null,
   "metadata": {},
   "outputs": [],
   "source": [
    "df_elec_price = DATAFRAMES[\"electricity_price\"][\"electricity_price_history_per_country.pq\"]\n",
    "df_elec_price.head()"
   ]
  },
  {
   "cell_type": "code",
   "execution_count": null,
   "metadata": {},
   "outputs": [],
   "source": [
    "df_elec_price['date'] = pd.to_datetime(df_elec_price[\"date\"], format=\"%Y/%m\").dt.strftime(\"%b-%Y\")"
   ]
  },
  {
   "cell_type": "code",
   "execution_count": null,
   "metadata": {},
   "outputs": [],
   "source": [
    "df_elec_price['price - EUR/MWh (avg)'] = pd.to_numeric(df_elec_price['price - EUR/MWh (avg)'], errors='coerce')\n",
    "df_elec_price"
   ]
  },
  {
   "cell_type": "code",
   "execution_count": null,
   "metadata": {},
   "outputs": [],
   "source": [
    "df_elec_price.country.unique()"
   ]
  },
  {
   "cell_type": "code",
   "execution_count": null,
   "metadata": {},
   "outputs": [],
   "source": [
    "df_elec_price.info()"
   ]
  },
  {
   "cell_type": "code",
   "execution_count": null,
   "metadata": {},
   "outputs": [],
   "source": [
    "df_elec_price.describe()"
   ]
  },
  {
   "cell_type": "code",
   "execution_count": null,
   "metadata": {},
   "outputs": [],
   "source": [
    "18*30"
   ]
  },
  {
   "attachments": {},
   "cell_type": "markdown",
   "metadata": {},
   "source": [
    "There are 30 data points of electricity price for each country, each month from 04/2023 to 09/2024. There are no missing values."
   ]
  },
  {
   "cell_type": "code",
   "execution_count": null,
   "metadata": {},
   "outputs": [],
   "source": [
    "# Plot the electricity price for each country\n",
    "# Grouping the data by country and plotting\n",
    "plt.figure(figsize=(12, 8))  # Set the figure size\n",
    "\n",
    "for country in df_elec_price['country'].unique():\n",
    "    country_data = df_elec_price[df_elec_price['country'] == country]\n",
    "    plt.plot(country_data['date'], country_data['price - EUR/MWh (avg)'], label=country)\n",
    "\n",
    "plt.plot()\n",
    "\n",
    "# Adding labels and title\n",
    "plt.xlabel('Date')\n",
    "plt.ylabel('Electricity Price - EUR/MWh (avg)')\n",
    "plt.title('Electricity Prices Over Time by Country')\n",
    "plt.legend(loc='upper left', bbox_to_anchor=(1, 1), ncol=1)  # Adjust legend position\n",
    "plt.xticks(rotation=45)  # Rotate x-axis labels for better readability\n",
    "plt.tight_layout()  # Adjusts plot to ensure everything fits without overlapping\n",
    "plt.show()"
   ]
  },
  {
   "cell_type": "code",
   "execution_count": null,
   "metadata": {},
   "outputs": [],
   "source": []
  }
 ],
 "metadata": {
  "kernelspec": {
   "display_name": "Python 3",
   "language": "python",
   "name": "python3"
  },
  "language_info": {
   "codemirror_mode": {
    "name": "ipython",
    "version": 3
   },
   "file_extension": ".py",
   "mimetype": "text/x-python",
   "name": "python",
   "nbconvert_exporter": "python",
   "pygments_lexer": "ipython3",
   "version": "3.10.13"
  }
 },
 "nbformat": 4,
 "nbformat_minor": 2
}
