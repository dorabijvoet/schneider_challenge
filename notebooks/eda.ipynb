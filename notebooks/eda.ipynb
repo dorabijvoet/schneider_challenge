{
 "cells": [
  {
   "attachments": {},
   "cell_type": "markdown",
   "metadata": {},
   "source": [
    "# EDA"
   ]
  },
  {
   "cell_type": "code",
   "execution_count": null,
   "metadata": {},
   "outputs": [],
   "source": [
    "import os\n",
    "from pathlib import Path\n",
    "\n",
    "import numpy as np\n",
    "import pandas as pd\n",
    "import plotly.express as px\n",
    "import plotly.graph_objects as go\n",
    "from plotly.subplots import make_subplots\n",
    "import matplotlib.pyplot as plt\n",
    "\n",
    "%load_ext autoreload\n",
    "%autoreload 2"
   ]
  },
  {
   "attachments": {},
   "cell_type": "markdown",
   "metadata": {},
   "source": [
    "## 1. Data"
   ]
  },
  {
   "cell_type": "code",
   "execution_count": null,
   "metadata": {},
   "outputs": [],
   "source": [
    "# Step 0: Unzip data file and read data\n",
    "## Unzip file\n",
    "DATA_PATH =  Path('/home/jovyan/hfactory_magic_folders/polycarbonate_pricing/resources')\n",
    "# Read parquets\n",
    "DATAFRAMES = {\n",
    "    folder.name: {\n",
    "        data_file.name: pd.read_parquet(data_file)\n",
    "        for data_file in (DATA_PATH / folder).iterdir()\n",
    "        if data_file.suffix == \".pq\"\n",
    "    }\n",
    "    for folder in DATA_PATH.iterdir() if folder.is_dir()\n",
    "}\n",
    "# Now you can access each DataFrame using its folder & file name as the key in the 'dataframes' dictionary\n",
    "# For example:\n",
    "# df_pc_price_eu = DATAFRAMES[\"pc_price\"][\"pc_price_eu.pq\"]"
   ]
  },
  {
   "cell_type": "code",
   "execution_count": null,
   "metadata": {},
   "outputs": [],
   "source": [
    "df_pc_price_eu = DATAFRAMES[\"pc_price\"][\"pc_price_eu.pq\"]\n",
    "df_pc_price_eu.head()"
   ]
  },
  {
   "cell_type": "code",
   "execution_count": null,
   "metadata": {},
   "outputs": [],
   "source": [
    "df_best_pc_price_eu = (\n",
    "    df_pc_price_eu.set_index(\"date\")[df_pc_price_eu.columns[df_pc_price_eu.columns.str.startswith(\"eu_supplier\")]]\n",
    "    .min(axis=1)\n",
    "    .reset_index(drop=False)\n",
    "    .rename(columns={0: \"price_pc_eur_per_kg\"})\n",
    ")\n",
    "\n",
    "# Create figure for the best price\n",
    "fig = go.Figure()\n",
    "fig.add_trace(\n",
    "    go.Scatter(\n",
    "        x=df_best_pc_price_eu[\"date\"],\n",
    "        y=df_best_pc_price_eu[\"price_pc_eur_per_kg\"],\n",
    "        mode=\"lines+markers\",\n",
    "        name=\"Best Price\",\n",
    "        marker={\"size\": 5, \"color\": \"red\"},\n",
    "        line={\"color\": \"red\"},\n",
    "    )\n",
    ")\n",
    "\n",
    "# Add traces for each EU supplier\n",
    "for col in df_pc_price_eu.columns:\n",
    "    if col.startswith(\"eu_supplier\"):\n",
    "        fig.add_trace(\n",
    "            go.Scatter(\n",
    "                x=df_pc_price_eu[\"date\"],\n",
    "                y=df_pc_price_eu[col],\n",
    "                mode=\"lines\",\n",
    "                name=col,\n",
    "                line={\"dash\": \"dash\", \"width\": 2},\n",
    "                opacity=0.5,\n",
    "            )\n",
    "        )\n",
    "\n",
    "fig.update_layout(\n",
    "    title={\n",
    "        \"text\": \"PolyCarbonate prices in EUR/Kg accross SE suppliers, against time\",\n",
    "        \"x\": 0.5,\n",
    "        \"xanchor\": \"center\",\n",
    "        \"yanchor\": \"top\",\n",
    "        \"font\": {\"size\": 20},\n",
    "    },\n",
    "    xaxis_title=\"Date\",\n",
    "    yaxis_title=\"Polycarbonate price (EUR/Kg)\",\n",
    "    width=1150,\n",
    "    height=600,\n",
    "    template=\"plotly\",\n",
    ")\n",
    "\n",
    "fig.show(\"svg\")"
   ]
  },
  {
   "cell_type": "code",
   "execution_count": null,
   "metadata": {},
   "outputs": [],
   "source": [
    "df_best_pc_price_eu[\"date\"] = pd.to_datetime(df_best_pc_price_eu[\"date\"], format=\"%b-%Y\")"
   ]
  },
  {
   "cell_type": "code",
   "execution_count": null,
   "metadata": {},
   "outputs": [],
   "source": [
    "df_best_pc_price_eu"
   ]
  },
  {
   "attachments": {},
   "cell_type": "markdown",
   "metadata": {},
   "source": [
    "### 1.1 Electricity price"
   ]
  },
  {
   "cell_type": "code",
   "execution_count": null,
   "metadata": {},
   "outputs": [],
   "source": [
    "df_elec_price = DATAFRAMES[\"electricity_price\"][\"electricity_price_history_per_country.pq\"]\n",
    "df_elec_price.head()"
   ]
  },
  {
   "cell_type": "code",
   "execution_count": null,
   "metadata": {},
   "outputs": [],
   "source": [
    "df_elec_price['date'] = pd.to_datetime(df_elec_price[\"date\"], format=\"%Y/%m\").dt.strftime(\"%b-%Y\")"
   ]
  },
  {
   "cell_type": "code",
   "execution_count": null,
   "metadata": {},
   "outputs": [],
   "source": [
    "df_elec_price['price - EUR/MWh (avg)'] = pd.to_numeric(df_elec_price['price - EUR/MWh (avg)'], errors='coerce')\n",
    "df_elec_price"
   ]
  },
  {
   "cell_type": "code",
   "execution_count": null,
   "metadata": {},
   "outputs": [],
   "source": [
    "df_elec_price.country.unique()"
   ]
  },
  {
   "cell_type": "code",
   "execution_count": null,
   "metadata": {},
   "outputs": [],
   "source": [
    "df_elec_price.info()"
   ]
  },
  {
   "cell_type": "code",
   "execution_count": null,
   "metadata": {},
   "outputs": [],
   "source": [
    "df_elec_price.describe()"
   ]
  },
  {
   "cell_type": "code",
   "execution_count": null,
   "metadata": {},
   "outputs": [],
   "source": [
    "18*30"
   ]
  },
  {
   "attachments": {},
   "cell_type": "markdown",
   "metadata": {},
   "source": [
    "There are 30 data points of electricity price for each country, each month from 04/2023 to 09/2024. There are no missing values."
   ]
  },
  {
   "cell_type": "code",
   "execution_count": null,
   "metadata": {},
   "outputs": [],
   "source": [
    "# Plot the electricity price for each country\n",
    "# Grouping the data by country and plotting\n",
    "plt.figure(figsize=(12, 8))  # Set the figure size\n",
    "\n",
    "for country in df_elec_price['country'].unique():\n",
    "    country_data = df_elec_price[df_elec_price['country'] == country]\n",
    "    plt.plot(country_data['date'], country_data['price - EUR/MWh (avg)'], label=country)\n",
    "\n",
    "plt.plot()\n",
    "\n",
    "# Adding labels and title\n",
    "plt.xlabel('Date')\n",
    "plt.ylabel('Electricity Price - EUR/MWh (avg)')\n",
    "plt.title('Electricity Prices Over Time by Country')\n",
    "plt.legend(loc='upper left', bbox_to_anchor=(1, 1), ncol=1)  # Adjust legend position\n",
    "plt.xticks(rotation=45)  # Rotate x-axis labels for better readability\n",
    "plt.tight_layout()  # Adjusts plot to ensure everything fits without overlapping\n",
    "plt.show()"
   ]
  },
  {
   "attachments": {},
   "cell_type": "markdown",
   "metadata": {},
   "source": [
    "#### 1.2 Automobile industry"
   ]
  },
  {
   "attachments": {},
   "cell_type": "markdown",
   "metadata": {},
   "source": [
    "<u>Description</u>: <br>\n",
    "History of the number of registered vehicles.<br>\n",
    "<u>Data source</u>: <br>\n",
    "Eurostat <br>\n",
    "<u>Columns</u>:\n",
    "- _freq_: Time frequency (Annual: [A])\n",
    "- _unit_: Number [NR]\n",
    "- _mot_nrg_: Motor energy\n",
    "- _geo_: Geopolitical entity\n",
    "- _2012 -> 2022_: history of the number of registered vehicles"
   ]
  },
  {
   "cell_type": "code",
   "execution_count": null,
   "metadata": {},
   "outputs": [],
   "source": [
    "df_auto = DATAFRAMES[\"automobile_industry\"][\"estat_road_eqr_busmot.pq\"]\n",
    "df_auto"
   ]
  },
  {
   "cell_type": "code",
   "execution_count": null,
   "metadata": {},
   "outputs": [],
   "source": [
    "df_auto.info()"
   ]
  },
  {
   "cell_type": "code",
   "execution_count": null,
   "metadata": {},
   "outputs": [],
   "source": [
    "df_auto.drop(columns=['freq', 'unit'], inplace=True)\n",
    "df_auto"
   ]
  },
  {
   "cell_type": "code",
   "execution_count": null,
   "metadata": {},
   "outputs": [],
   "source": [
    "for col in df_auto.select_dtypes(include='object').columns:\n",
    "    unique_values = df_auto[col].unique()\n",
    "    print(f\"{len(unique_values)} unique values in column '{col}': {set(unique_values)}\")"
   ]
  },
  {
   "attachments": {},
   "cell_type": "markdown",
   "metadata": {},
   "source": [
    "The values of motor energy type are:\n",
    "- TOTAL: Likely represents the total count or sum of vehicles across different energy sources.\n",
    "- ELC_DIE_PI: This could stand for Electric Diesel Plug-In Hybrid.\n",
    "- HYD_FCELL: Likely stands for Hydrogen Fuel Cell.\n",
    "- ALT: Could refer to Alternative Fuels, a broad category that may include any non-conventional fuel sources.\n",
    "- CNG: Compressed Natural Gas.\n",
    "- DIE_X_HYB: Could mean Diesel Extended Hybrid or possibly Diesel Hybrid (the exact meaning might depend on the context).\n",
    "- ELC_DIE_HYB: Electric Diesel Hybrid.\n",
    "- PET: Petrol (also known as gasoline in some regions).\n",
    "- LPG: Liquefied Petroleum Gas.\n",
    "- LNG: Liquefied Natural Gas.\n",
    "- GAS: Typically refers to Gasoline (petrol).\n",
    "- DIE: Diesel.\n",
    "- OTH: Other types of motor energy sources not listed explicitly.\n",
    "- ELC: Electric."
   ]
  },
  {
   "attachments": {},
   "cell_type": "markdown",
   "metadata": {},
   "source": [
    "The values of geopolitical entity are:\n",
    "\n",
    "- AT - Austria\n",
    "- BE - Belgium\n",
    "- BG - Bulgaria\n",
    "- CY - Cyprus\n",
    "- CZ - Czech Republic\n",
    "- DE - Germany\n",
    "- DK - Denmark\n",
    "- EE - Estonia\n",
    "- ES - Spain\n",
    "- FI - Finland\n",
    "- FR - France\n",
    "- HR - Croatia\n",
    "- HU - Hungary\n",
    "- IE - Ireland\n",
    "- IT - Italy\n",
    "- LT - Lithuania\n",
    "- LU - Luxembourg\n",
    "- LV - Latvia\n",
    "- MT - Malta\n",
    "- NL - Netherlands\n",
    "- PL - Poland\n",
    "- PT - Portugal\n",
    "- RO - Romania\n",
    "- SE - Sweden\n",
    "- SI - Slovenia\n",
    "- SK - Slovakia\n",
    "- EL - Greece (EL is used as the ISO code for Greece)\n",
    "\n",
    "All of these countries have a significant geopolitical and economic connection to Europe."
   ]
  },
  {
   "cell_type": "code",
   "execution_count": null,
   "metadata": {},
   "outputs": [],
   "source": [
    "df_auto[df_auto[\"geo\"] == \"EU27_2020\"]"
   ]
  },
  {
   "cell_type": "code",
   "execution_count": null,
   "metadata": {},
   "outputs": [],
   "source": [
    "df_auto[df_auto[\"geo\"] == \"AL\"]"
   ]
  },
  {
   "cell_type": "code",
   "execution_count": null,
   "metadata": {},
   "outputs": [],
   "source": [
    "df_auto[(df_auto[\"mot_nrg\"] == 'TOTAL') & (df_auto[\"geo\"] == 'EU27_2020')]"
   ]
  },
  {
   "cell_type": "code",
   "execution_count": null,
   "metadata": {},
   "outputs": [],
   "source": [
    "# Assuming df is your DataFrame\n",
    "# Step 1: Melt the DataFrame to bring year columns into a single 'date' column\n",
    "df_melted = pd.melt(\n",
    "    df_auto,\n",
    "    id_vars=['mot_nrg', 'geo'],  # Keep 'mot_nrg' and 'geo' as identifiers\n",
    "    value_vars=[str(year) for year in range(2012, 2023)],  # Adjust the range of years if needed\n",
    "    var_name='date',\n",
    "    value_name='nr_autos'\n",
    ")\n",
    "\n",
    "# Step 2: Combine 'geo' and 'mot_nrg' to create unique column names\n",
    "df_melted['geo_mot_nrg'] = df_melted['geo'] + '_' + df_melted['mot_nrg']\n",
    "\n",
    "# Step 3: Pivot the DataFrame\n",
    "df_pivoted = df_melted.pivot(index='date', columns='geo_mot_nrg', values='nr_autos').reset_index()\n",
    "\n",
    "# Display the resulting DataFrame\n",
    "df_pivoted['date'] = pd.to_datetime(df_pivoted['date'], format='%Y')\n",
    "df_pivoted[[\"date\", \"AL_GAS\", \"EU27_2020_TOTAL\", \"EU27_2020_ELC\"]]"
   ]
  },
  {
   "attachments": {},
   "cell_type": "markdown",
   "metadata": {},
   "source": [
    "Since there are no pc price values for 2012, we drop the first row."
   ]
  },
  {
   "cell_type": "code",
   "execution_count": null,
   "metadata": {},
   "outputs": [],
   "source": [
    "df_pivoted.drop(df_pivoted.index[0], inplace=True)\n",
    "df_pivoted"
   ]
  },
  {
   "cell_type": "code",
   "execution_count": null,
   "metadata": {},
   "outputs": [],
   "source": [
    "# Get the count of missing values for each column\n",
    "missing_values = df_pivoted.isna().sum()\n",
    "\n",
    "# Plotting a histogram of the number of missing values\n",
    "plt.figure(figsize=(10, 6))\n",
    "plt.hist(missing_values, bins=range(0, max(missing_values) + 2), color='skyblue', edgecolor='black')\n",
    "plt.title('Histogram of Number of Missing Values per Column')\n",
    "plt.xlabel('Number of Missing Values')\n",
    "plt.ylabel('Frequency (Number of Columns)')\n",
    "plt.grid(axis='y')\n",
    "plt.show()"
   ]
  },
  {
   "cell_type": "code",
   "execution_count": null,
   "metadata": {},
   "outputs": [],
   "source": [
    "missing_values[missing_values < 4]"
   ]
  },
  {
   "cell_type": "code",
   "execution_count": null,
   "metadata": {},
   "outputs": [],
   "source": [
    "missing_values['FR_TOTAL']"
   ]
  },
  {
   "cell_type": "code",
   "execution_count": null,
   "metadata": {},
   "outputs": [],
   "source": [
    "missing_values['EU27_2020_ELC']"
   ]
  },
  {
   "cell_type": "code",
   "execution_count": null,
   "metadata": {},
   "outputs": [],
   "source": [
    "missing_values['EU27_2020_TOTAL']"
   ]
  },
  {
   "attachments": {},
   "cell_type": "markdown",
   "metadata": {},
   "source": [
    "Linearly interpolate missing values."
   ]
  },
  {
   "cell_type": "code",
   "execution_count": null,
   "metadata": {},
   "outputs": [],
   "source": [
    "df_cleaned = df_pivoted.loc[:, df_pivoted.isna().sum() <= 3]\n",
    "df_cleaned"
   ]
  },
  {
   "cell_type": "code",
   "execution_count": null,
   "metadata": {},
   "outputs": [],
   "source": [
    "# df_cleaned = df_cleaned.interpolate(method='linear', limit_direction='both')\n",
    "df_cleaned = df_cleaned.interpolate(method='linear')\n",
    "df_cleaned"
   ]
  },
  {
   "attachments": {},
   "cell_type": "markdown",
   "metadata": {},
   "source": [
    "Merge best price data frame with automobiles data frame."
   ]
  },
  {
   "cell_type": "code",
   "execution_count": null,
   "metadata": {},
   "outputs": [],
   "source": [
    "df_merged = pd.merge(df_best_pc_price_eu, df_cleaned, how='left')\n",
    "df_merged"
   ]
  },
  {
   "attachments": {},
   "cell_type": "markdown",
   "metadata": {},
   "source": [
    "Linear interpolation on missing values."
   ]
  },
  {
   "cell_type": "code",
   "execution_count": null,
   "metadata": {},
   "outputs": [],
   "source": [
    "# df = df_merged.interpolate(method='linear', limit_direction='both')\n",
    "df = df_merged.interpolate(method='linear')\n",
    "df"
   ]
  },
  {
   "cell_type": "code",
   "execution_count": null,
   "metadata": {},
   "outputs": [],
   "source": [
    "df.loc[:, df.isna().sum() > 0].columns"
   ]
  },
  {
   "cell_type": "code",
   "execution_count": null,
   "metadata": {},
   "outputs": [],
   "source": [
    "df.drop(columns= df.loc[:, df.isna().sum() > 0].columns, inplace=True)\n",
    "df"
   ]
  },
  {
   "cell_type": "code",
   "execution_count": null,
   "metadata": {},
   "outputs": [],
   "source": [
    "# Calculate correlation of 'price_pc_eur_per_kg' with each column, handling missing values independently\n",
    "correlations = {}\n",
    "\n",
    "for col in df.columns:\n",
    "    if col != 'price_pc_eur_per_kg' and col != 'date':  # Exclude 'price_pc_eur_per_kg' and 'date'\n",
    "        # Drop rows with missing values for the current column and 'price_pc_eur_per_kg'\n",
    "        df_temp = df[['price_pc_eur_per_kg', col]].dropna()\n",
    "        \n",
    "        # Calculate correlation and store it\n",
    "        correlation_value = df_temp['price_pc_eur_per_kg'].corr(df_temp[col])\n",
    "        correlations[col] = correlation_value\n",
    "\n",
    "# Convert the results to a Pandas Series for easy viewing\n",
    "correlations_series = pd.Series(correlations)\n",
    "\n",
    "# Rank correlations by magnitude, retaining the sign\n",
    "ranked_correlations = correlations_series.reindex(correlations_series.abs().sort_values(ascending=False).index)\n",
    "\n",
    "# Display the ranked correlations\n",
    "print(ranked_correlations[abs(ranked_correlations) > 0.5])"
   ]
  },
  {
   "cell_type": "code",
   "execution_count": null,
   "metadata": {},
   "outputs": [],
   "source": [
    "ranked_correlations[\"EU27_2020_ELC\"]"
   ]
  },
  {
   "cell_type": "code",
   "execution_count": null,
   "metadata": {},
   "outputs": [],
   "source": [
    "ranked_correlations[\"EU27_2020_TOTAL\"]"
   ]
  },
  {
   "cell_type": "code",
   "execution_count": null,
   "metadata": {},
   "outputs": [],
   "source": [
    "# Group correlations by vehicle types\n",
    "grouped_correlations = correlations_series.groupby(vehicle_types)\n",
    "\n",
    "# Plot a histogram for each vehicle type\n",
    "for vehicle_type, correlations in grouped_correlations:\n",
    "    plt.figure(figsize=(8, 5))\n",
    "    plt.hist(correlations, bins=10, color='skyblue', edgecolor='black', alpha=0.7, density=False)\n",
    "    plt.title(f'Correlation Distribution for {vehicle_type}')\n",
    "    plt.xlabel('Correlation Value')\n",
    "    plt.ylabel('Frequency')\n",
    "    plt.grid(axis='y', alpha=0.75)\n",
    "    plt.show()"
   ]
  },
  {
   "cell_type": "code",
   "execution_count": null,
   "metadata": {},
   "outputs": [],
   "source": [
    "import re\n",
    "\n",
    "# List of predefined vehicle types\n",
    "vehicle_types_list = df_auto[\"mot_nrg\"].unique()\n",
    "\n",
    "# Extract the vehicle types from the index using a regular expression that matches the list\n",
    "def extract_vehicle_type(index_value):\n",
    "    for vehicle_type in vehicle_types_list:\n",
    "        # Match the vehicle type at the end of the string\n",
    "        if re.search(f'_{vehicle_type}$', index_value):\n",
    "            return vehicle_type\n",
    "    return None  # Return None if no match is found\n",
    "\n",
    "# Apply the extraction function to each index value\n",
    "vehicle_types = correlations_series.index.map(extract_vehicle_type)\n",
    "\n",
    "# Group by extracted vehicle types and calculate the average correlation\n",
    "average_correlation_by_vehicle_type = correlations_series.groupby(vehicle_types).mean()\n",
    "\n",
    "# Display the result, sorted by magnitude of correlation while keeping the sign\n",
    "average_correlation_sorted = average_correlation_by_vehicle_type.reindex(\n",
    "    average_correlation_by_vehicle_type.abs().sort_values(ascending=False).index\n",
    ")\n",
    "\n",
    "print(average_correlation_sorted)\n"
   ]
  },
  {
   "attachments": {},
   "cell_type": "markdown",
   "metadata": {},
   "source": [
    "It seems that the correlation of the number of electric and alternative automobiles with the price of pc is higher than other types of automobiles.\n",
    "\n",
    "Electric vehicles (EVs) vehicles often have different design and production needs compared to conventional vehicles. They can include lightweight materials (like plastic) for battery casing, interior components, and weight reduction for efficiency. Growth in EV production may lead to increased demand for lightweight materials like polycarbonate. Similar forces may be at play for alternative vehicles.\n",
    "\n",
    "The correlation of the total number of automobiles with the price of pc is negative."
   ]
  },
  {
   "cell_type": "code",
   "execution_count": null,
   "metadata": {},
   "outputs": [],
   "source": [
    "df[[\"date\", \"price_pc_eur_per_kg\", \"EU27_2020_TOTAL\", \"EU27_2020_ELC\"]]"
   ]
  },
  {
   "cell_type": "code",
   "execution_count": null,
   "metadata": {},
   "outputs": [],
   "source": [
    "# Plotting\n",
    "fig, ax1 = plt.subplots(figsize=(12, 6))\n",
    "\n",
    "# Plotting price_pc_eur_per_kg on the primary y-axis\n",
    "ax1.set_xlabel('Date')\n",
    "ax1.set_ylabel('Price PC (EUR/kg)', color='b')\n",
    "ax1.plot(df['date'], df['price_pc_eur_per_kg'], color='b', marker='o', linestyle='-', label='Price PC (EUR/kg)')\n",
    "ax1.tick_params(axis='y', labelcolor='b')\n",
    "\n",
    "# Creating a second y-axis\n",
    "ax2 = ax1.twinx()\n",
    "ax2.set_ylabel('Automobiles', color='g')\n",
    "ax2.plot(df['date'], df['EU27_2020_TOTAL'], color='g', marker='x', linestyle='--', label='EU27_2020_TOTAL')\n",
    "ax2.tick_params(axis='y', labelcolor='g')\n",
    "\n",
    "# Adding legends and titles\n",
    "fig.suptitle('PC Price and Automobile Data Over Time')\n",
    "fig.legend(loc='upper left', bbox_to_anchor=(0.1, 0.85))\n",
    "plt.xticks(rotation=45)\n",
    "plt.grid(axis='x')  # Optional: Add grid for the x-axis\n",
    "plt.tight_layout()\n",
    "plt.show()"
   ]
  },
  {
   "cell_type": "code",
   "execution_count": null,
   "metadata": {},
   "outputs": [],
   "source": [
    "# Plotting\n",
    "fig, ax1 = plt.subplots(figsize=(12, 6))\n",
    "\n",
    "# Plotting price_pc_eur_per_kg on the primary y-axis\n",
    "ax1.set_xlabel('Date')\n",
    "ax1.set_ylabel('Price PC (EUR/kg)', color='b')\n",
    "ax1.plot(df['date'], df['price_pc_eur_per_kg'], color='b', marker='o', linestyle='-', label='Price PC (EUR/kg)')\n",
    "ax1.tick_params(axis='y', labelcolor='b')\n",
    "\n",
    "# Creating a second y-axis\n",
    "ax2 = ax1.twinx()\n",
    "ax2.set_ylabel('Automobiles', color='g')\n",
    "ax2.plot(df['date'], df['FR_ALT'], color='g', marker='x', linestyle='--', label='FR_ALT')\n",
    "ax2.plot(df['date'], df['FR_ELC'], color='c', marker='x', linestyle='--', label='FR_ELC')\n",
    "ax2.plot(df['date'], df['EU27_2020_ELC'], color='r', marker='^', linestyle='-.', label='EU27_2020_ELC')\n",
    "ax2.tick_params(axis='y', labelcolor='g')\n",
    "\n",
    "# Adding legends and titles\n",
    "fig.suptitle('PC Price and Automobile Data Over Time')\n",
    "fig.legend(loc='upper left', bbox_to_anchor=(0.1, 0.85))\n",
    "plt.xticks(rotation=45)\n",
    "plt.grid(axis='x')  # Optional: Add grid for the x-axis\n",
    "plt.tight_layout()\n",
    "plt.show()"
   ]
  },
  {
   "cell_type": "code",
   "execution_count": null,
   "metadata": {},
   "outputs": [],
   "source": [
    "# Plotting\n",
    "fig, ax1 = plt.subplots(figsize=(12, 6))\n",
    "\n",
    "# Plotting price_pc_eur_per_kg on the primary y-axis\n",
    "ax1.set_xlabel('Date')\n",
    "ax1.set_ylabel('Price PC (EUR/kg)', color='b')\n",
    "ax1.plot(df['date'], df['price_pc_eur_per_kg'], color='b', marker='o', linestyle='-', label='Price PC (EUR/kg)')\n",
    "ax1.tick_params(axis='y', labelcolor='b')\n",
    "\n",
    "# Creating a second y-axis\n",
    "ax2 = ax1.twinx()\n",
    "ax2.set_ylabel('Automobiles', color='g')\n",
    "ax2.plot(df['date'], df['FR_TOTAL'], color='g', marker='x', linestyle='--', label='FR_TOTAL')\n",
    "ax2.tick_params(axis='y', labelcolor='g')\n",
    "\n",
    "# Adding legends and titles\n",
    "fig.suptitle('PC Price and Automobile Data Over Time')\n",
    "fig.legend(loc='upper left', bbox_to_anchor=(0.1, 0.85))\n",
    "plt.xticks(rotation=45)\n",
    "plt.grid(axis='x')  # Optional: Add grid for the x-axis\n",
    "plt.tight_layout()\n",
    "plt.show()"
   ]
  },
  {
   "attachments": {},
   "cell_type": "markdown",
   "metadata": {},
   "source": [
    "The number of total automobiles seems to be inversely correlated with the price of pc. This intuitively does not make sense: as the number of automobiles increases, there is more demand for plastic for their production which drives the price of pc up.\n",
    "\n",
    "The number of electric automobiles seems to be positively correlated with the price of pc."
   ]
  },
  {
   "attachments": {},
   "cell_type": "markdown",
   "metadata": {},
   "source": [
    "Feature engineering:\n",
    "- ratio electrique/total"
   ]
  },
  {
   "attachments": {},
   "cell_type": "markdown",
   "metadata": {},
   "source": [
    "Questions to ask to Schneider:\n",
    "- Are there any countries that you supply more to? (so the automobile industry in that country has more of an effect on the price of pc)\n",
    "- "
   ]
  },
  {
   "cell_type": "markdown",
   "metadata": {},
   "source": []
  }
 ],
 "metadata": {
  "kernelspec": {
   "display_name": "Python 3",
   "language": "python",
   "name": "python3"
  },
  "language_info": {
   "codemirror_mode": {
    "name": "ipython",
    "version": 3
   },
   "file_extension": ".py",
   "mimetype": "text/x-python",
   "name": "python",
   "nbconvert_exporter": "python",
   "pygments_lexer": "ipython3",
   "version": "3.10.13"
  }
 },
 "nbformat": 4,
 "nbformat_minor": 2
}
